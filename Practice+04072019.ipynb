{
 "cells": [
  {
   "cell_type": "code",
   "execution_count": null,
   "metadata": {
    "collapsed": true
   },
   "outputs": [],
   "source": [
    "#Input() function\n",
    "#How to create user input\n",
    "#How to change output to int\n",
    "#Using if condition\n",
    "#Use of Module %\n",
    "#Even odd number program\n",
    "#Introduction to while loops"
   ]
  },
  {
   "cell_type": "code",
   "execution_count": null,
   "metadata": {
    "collapsed": true
   },
   "outputs": [],
   "source": [
    "#In Python source code, an f-string is a literal string, prefixed with 'f', which contains expressions inside braces"
   ]
  },
  {
   "cell_type": "code",
   "execution_count": 1,
   "metadata": {},
   "outputs": [
    {
     "name": "stdout",
     "output_type": "stream",
     "text": [
      "Please enter your age27\n",
      "\n",
      " Your age is: 27\n"
     ]
    }
   ],
   "source": [
    "age = input (\"Please enter your age\")\n",
    "age = int(age)\n",
    "print (f\"\\n Your age is: {age}\")"
   ]
  },
  {
   "cell_type": "code",
   "execution_count": 2,
   "metadata": {},
   "outputs": [
    {
     "name": "stdout",
     "output_type": "stream",
     "text": [
      "What is you height in inches170\n",
      "\n",
      " You are eligible for riding\n"
     ]
    }
   ],
   "source": [
    "height = input(\"What is you height in inches\")\n",
    "height = int(height)\n",
    "if height >=150:\n",
    "    print (f\"\\n You are eligible for riding\")\n",
    "else:\n",
    "    print (f\"\\n You need to grow\")"
   ]
  },
  {
   "cell_type": "code",
   "execution_count": 4,
   "metadata": {},
   "outputs": [
    {
     "name": "stdout",
     "output_type": "stream",
     "text": [
      "What is you height in inches149\n",
      "\n",
      " You need to grow\n"
     ]
    }
   ],
   "source": [
    "height = input(\"What is you height in inches\")\n",
    "height = int(height)\n",
    "if height >=150:\n",
    "    print (f\"\\n You are eligible for riding\")\n",
    "else:\n",
    "    print (f\"\\n You need to grow\")"
   ]
  },
  {
   "cell_type": "code",
   "execution_count": 5,
   "metadata": {},
   "outputs": [
    {
     "name": "stdout",
     "output_type": "stream",
     "text": [
      "27\n"
     ]
    }
   ],
   "source": [
    "print (age)"
   ]
  },
  {
   "cell_type": "code",
   "execution_count": 6,
   "metadata": {},
   "outputs": [
    {
     "name": "stdout",
     "output_type": "stream",
     "text": [
      "Please enter your age18\n",
      "\n",
      " Your age is: 18\n"
     ]
    }
   ],
   "source": [
    "age = input (\"Please enter your age\")\n",
    "age = int(age)\n",
    "print (f\"\\n Your age is: {age}\")"
   ]
  },
  {
   "cell_type": "code",
   "execution_count": 7,
   "metadata": {},
   "outputs": [
    {
     "name": "stdout",
     "output_type": "stream",
     "text": [
      "18\n"
     ]
    }
   ],
   "source": [
    "print (age)"
   ]
  },
  {
   "cell_type": "code",
   "execution_count": null,
   "metadata": {
    "collapsed": true
   },
   "outputs": [],
   "source": [
    "#Modulo Operator %: It returns the remainder"
   ]
  },
  {
   "cell_type": "code",
   "execution_count": 9,
   "metadata": {},
   "outputs": [
    {
     "data": {
      "text/plain": [
       "2"
      ]
     },
     "execution_count": 9,
     "metadata": {},
     "output_type": "execute_result"
    }
   ],
   "source": [
    "2 % 3"
   ]
  },
  {
   "cell_type": "code",
   "execution_count": 10,
   "metadata": {},
   "outputs": [
    {
     "data": {
      "text/plain": [
       "1"
      ]
     },
     "execution_count": 10,
     "metadata": {},
     "output_type": "execute_result"
    }
   ],
   "source": [
    "3 % 2"
   ]
  },
  {
   "cell_type": "code",
   "execution_count": 11,
   "metadata": {},
   "outputs": [
    {
     "data": {
      "text/plain": [
       "0.1"
      ]
     },
     "execution_count": 11,
     "metadata": {},
     "output_type": "execute_result"
    }
   ],
   "source": [
    "10/100"
   ]
  },
  {
   "cell_type": "code",
   "execution_count": 13,
   "metadata": {},
   "outputs": [
    {
     "data": {
      "text/plain": [
       "0"
      ]
     },
     "execution_count": 13,
     "metadata": {},
     "output_type": "execute_result"
    }
   ],
   "source": [
    "4 % 2"
   ]
  },
  {
   "cell_type": "code",
   "execution_count": 14,
   "metadata": {},
   "outputs": [
    {
     "data": {
      "text/plain": [
       "2"
      ]
     },
     "execution_count": 14,
     "metadata": {},
     "output_type": "execute_result"
    }
   ],
   "source": [
    "2 % 4"
   ]
  },
  {
   "cell_type": "code",
   "execution_count": 16,
   "metadata": {},
   "outputs": [
    {
     "data": {
      "text/plain": [
       "0"
      ]
     },
     "execution_count": 16,
     "metadata": {},
     "output_type": "execute_result"
    }
   ],
   "source": [
    "-4 % 2"
   ]
  },
  {
   "cell_type": "code",
   "execution_count": null,
   "metadata": {
    "collapsed": true
   },
   "outputs": [],
   "source": [
    "# How to test the given number is even or odd"
   ]
  },
  {
   "cell_type": "code",
   "execution_count": 23,
   "metadata": {},
   "outputs": [
    {
     "name": "stdout",
     "output_type": "stream",
     "text": [
      "Enter a number, I will tell if its even or odd22\n",
      "\n",
      "The given number is even\n"
     ]
    }
   ],
   "source": [
    "number = input(\"Enter a number, I will tell if its even or odd\")\n",
    "number = int(number)\n",
    "if number % 2 == 0:\n",
    "    print (f\"\\nThe given number is even\")\n",
    "else:\n",
    "    print (f\"\\nThe given number is odd\")"
   ]
  },
  {
   "cell_type": "code",
   "execution_count": 26,
   "metadata": {},
   "outputs": [
    {
     "name": "stdout",
     "output_type": "stream",
     "text": [
      "What is your name?Pavan\n",
      "\n",
      "Your Name is: Pavan\n"
     ]
    }
   ],
   "source": [
    "Name = input (\"What is your name?\")\n",
    "print (f\"\\nYour Name is: {Name}\")"
   ]
  },
  {
   "cell_type": "code",
   "execution_count": null,
   "metadata": {
    "collapsed": true
   },
   "outputs": [],
   "source": [
    "# Introduction to while loop: It checks the condition until certain value is true"
   ]
  },
  {
   "cell_type": "code",
   "execution_count": 1,
   "metadata": {},
   "outputs": [
    {
     "name": "stdout",
     "output_type": "stream",
     "text": [
      "1\n",
      "2\n",
      "3\n",
      "4\n",
      "5\n"
     ]
    }
   ],
   "source": [
    "current_number = 1\n",
    "while current_number <= 5:\n",
    "    print (current_number)\n",
    "    current_number += 1"
   ]
  },
  {
   "cell_type": "code",
   "execution_count": 2,
   "metadata": {},
   "outputs": [
    {
     "name": "stdout",
     "output_type": "stream",
     "text": [
      "25\n",
      "26\n",
      "27\n",
      "28\n",
      "29\n",
      "30\n",
      "31\n",
      "32\n",
      "33\n",
      "34\n",
      "35\n"
     ]
    }
   ],
   "source": [
    "Mandate_age = 25\n",
    "while Mandate_age <=35:\n",
    "    print (Mandate_age)\n",
    "    Mandate_age +=1"
   ]
  },
  {
   "cell_type": "code",
   "execution_count": null,
   "metadata": {
    "collapsed": true
   },
   "outputs": [],
   "source": [
    "# Letting the user choose when to quit:"
   ]
  },
  {
   "cell_type": "code",
   "execution_count": 3,
   "metadata": {},
   "outputs": [
    {
     "name": "stdout",
     "output_type": "stream",
     "text": [
      "\n",
      " Tell me something, and I will repeat it\n",
      " Enter 'Quit' to exit the programHello\n",
      "Hello\n",
      "\n",
      " Tell me something, and I will repeat it\n",
      " Enter 'Quit' to exit the programHow are you\n",
      "How are you\n",
      "\n",
      " Tell me something, and I will repeat it\n",
      " Enter 'Quit' to exit the programWhere do you live\n",
      "Where do you live\n",
      "\n",
      " Tell me something, and I will repeat it\n",
      " Enter 'Quit' to exit the programWhat do you so\n",
      "What do you so\n",
      "\n",
      " Tell me something, and I will repeat it\n",
      " Enter 'Quit' to exit the programWhat are your hobbies\n",
      "What are your hobbies\n",
      "\n",
      " Tell me something, and I will repeat it\n",
      " Enter 'Quit' to exit the programQuit\n",
      "Quit\n"
     ]
    }
   ],
   "source": [
    "prompt = \"\\n Tell me something, and I will repeat it\"\n",
    "prompt += \"\\n Enter 'Quit' to exit the program\"\n",
    "message = \" \"\n",
    "while message != 'Quit':\n",
    "    message = input (prompt)\n",
    "    print (message)"
   ]
  },
  {
   "cell_type": "code",
   "execution_count": null,
   "metadata": {
    "collapsed": true
   },
   "outputs": [],
   "source": [
    "#Introduction to functions:\n",
    "#doc strings \"\"\"   \"\"\""
   ]
  },
  {
   "cell_type": "code",
   "execution_count": null,
   "metadata": {
    "collapsed": true
   },
   "outputs": [],
   "source": [
    "#Defining a function in Python:"
   ]
  },
  {
   "cell_type": "code",
   "execution_count": 8,
   "metadata": {},
   "outputs": [
    {
     "name": "stdout",
     "output_type": "stream",
     "text": [
      "Hello\n"
     ]
    }
   ],
   "source": [
    "def Greet_user():\n",
    "    \"\"\" Display a simple greeting\"\"\"\n",
    "    print (\"Hello\")\n",
    "Greet_user()"
   ]
  },
  {
   "cell_type": "code",
   "execution_count": null,
   "metadata": {
    "collapsed": true
   },
   "outputs": [],
   "source": [
    "#Passing information to a function"
   ]
  },
  {
   "cell_type": "code",
   "execution_count": 21,
   "metadata": {},
   "outputs": [
    {
     "name": "stdout",
     "output_type": "stream",
     "text": [
      "Hello, Pavan!\n"
     ]
    }
   ],
   "source": [
    "def greet_user (username):\n",
    "    print (f\"Hello, {username.title()}!\")\n",
    "greet_user(\"Pavan\")\n",
    "\n",
    "#While defining a function (def greet_user) we need to pass parameters (username)\n",
    "#While calling a function (greet_user) we need to pass arguments ('Pavan')"
   ]
  },
  {
   "cell_type": "code",
   "execution_count": null,
   "metadata": {
    "collapsed": true
   },
   "outputs": [],
   "source": []
  },
  {
   "cell_type": "code",
   "execution_count": null,
   "metadata": {
    "collapsed": true
   },
   "outputs": [],
   "source": []
  },
  {
   "cell_type": "code",
   "execution_count": null,
   "metadata": {
    "collapsed": true
   },
   "outputs": [],
   "source": []
  },
  {
   "cell_type": "code",
   "execution_count": null,
   "metadata": {
    "collapsed": true
   },
   "outputs": [],
   "source": []
  },
  {
   "cell_type": "code",
   "execution_count": null,
   "metadata": {
    "collapsed": true
   },
   "outputs": [],
   "source": []
  },
  {
   "cell_type": "code",
   "execution_count": null,
   "metadata": {
    "collapsed": true
   },
   "outputs": [],
   "source": []
  },
  {
   "cell_type": "code",
   "execution_count": null,
   "metadata": {
    "collapsed": true
   },
   "outputs": [],
   "source": []
  },
  {
   "cell_type": "code",
   "execution_count": null,
   "metadata": {
    "collapsed": true
   },
   "outputs": [],
   "source": []
  }
 ],
 "metadata": {
  "kernelspec": {
   "display_name": "Python 3",
   "language": "python",
   "name": "python3"
  }
 },
 "nbformat": 4,
 "nbformat_minor": 2
}
