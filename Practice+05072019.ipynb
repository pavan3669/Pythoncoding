{
 "cells": [
  {
   "cell_type": "code",
   "execution_count": null,
   "metadata": {
    "collapsed": true
   },
   "outputs": [],
   "source": [
    "#Position arguments & Key word arguments\n",
    "#Python allows functions to be called using keyword arguments. \n",
    "#When we call functions in this way, the order (position) of the arguments can be changed.\n",
    "#But we must keep in mind that keyword arguments must follow positional arguments. \n",
    "#Having a positional argument after keyword arguments will result into errors."
   ]
  },
  {
   "cell_type": "code",
   "execution_count": 2,
   "metadata": {},
   "outputs": [
    {
     "name": "stdout",
     "output_type": "stream",
     "text": [
      "2\n"
     ]
    }
   ],
   "source": [
    "def rectangleArea(width, height):\n",
    "    return width * height\n",
    "\n",
    "print (rectangleArea(width=1, height=2))"
   ]
  },
  {
   "cell_type": "code",
   "execution_count": 3,
   "metadata": {},
   "outputs": [
    {
     "name": "stdout",
     "output_type": "stream",
     "text": [
      "2\n",
      "2\n",
      "2\n"
     ]
    }
   ],
   "source": [
    "#Positional arguments can be called either using values in order or by naming each. \n",
    "#For example, all three of the following would work the same way:\n",
    "\n",
    "def rectangleArea(width, height):\n",
    "    return width * height\n",
    "\n",
    "print(rectangleArea(1, 2))\n",
    "print(rectangleArea(width=1, height=2))\n",
    "print(rectangleArea(height=2, width=1))"
   ]
  },
  {
   "cell_type": "code",
   "execution_count": 5,
   "metadata": {},
   "outputs": [
    {
     "name": "stdout",
     "output_type": "stream",
     "text": [
      "Welcome\n"
     ]
    }
   ],
   "source": [
    "#positional arguments example\n",
    "def combine(str1, str2):\n",
    "#To join str1 and str2 with str3\n",
    "    str3 = str1 + str2\n",
    "    print(str3)\n",
    "\n",
    "#call combine() and pass 2 strings\n",
    "combine(\"Wel\", \"come\")   #positional arguments "
   ]
  },
  {
   "cell_type": "code",
   "execution_count": 6,
   "metadata": {},
   "outputs": [
    {
     "name": "stdout",
     "output_type": "stream",
     "text": [
      "Employee Name:  inban\n",
      "Employee Id  :  pay001\n",
      "Employee Name:  karthik\n",
      "Employee Id  :  pay002\n"
     ]
    }
   ],
   "source": [
    "#keyword arguments example: \n",
    "def employee(name, Id):\n",
    "    print(\"Employee Name: \", name)\n",
    "    print(\"Employee Id  : \", Id)\n",
    "#call employee() and pass 2 arguments\n",
    "employee(name = \"inban\", Id = \"pay001\")\n",
    "employee(Id = \"pay002\", name = \"karthik\") #we can change the order args,but name & Id order is printed"
   ]
  },
  {
   "cell_type": "code",
   "execution_count": null,
   "metadata": {
    "collapsed": true
   },
   "outputs": [],
   "source": [
    "#Returning the values from a function"
   ]
  },
  {
   "cell_type": "code",
   "execution_count": 7,
   "metadata": {},
   "outputs": [
    {
     "name": "stdout",
     "output_type": "stream",
     "text": [
      "Pavan Kumar\n"
     ]
    }
   ],
   "source": [
    "def get_formatted_name(first_name, last_name):\n",
    "    \"\"\"Return fullname, neatly formatted\"\"\"\n",
    "    full_name = f\"{first_name} {last_name}\"\n",
    "    return full_name.title()\n",
    "musician = get_formatted_name (\"pavan\", \"kumar\")\n",
    "print (musician)"
   ]
  },
  {
   "cell_type": "code",
   "execution_count": null,
   "metadata": {
    "collapsed": true
   },
   "outputs": [],
   "source": []
  },
  {
   "cell_type": "code",
   "execution_count": null,
   "metadata": {
    "collapsed": true
   },
   "outputs": [],
   "source": []
  },
  {
   "cell_type": "code",
   "execution_count": null,
   "metadata": {
    "collapsed": true
   },
   "outputs": [],
   "source": []
  },
  {
   "cell_type": "code",
   "execution_count": null,
   "metadata": {
    "collapsed": true
   },
   "outputs": [],
   "source": []
  },
  {
   "cell_type": "code",
   "execution_count": null,
   "metadata": {
    "collapsed": true
   },
   "outputs": [],
   "source": []
  },
  {
   "cell_type": "code",
   "execution_count": null,
   "metadata": {
    "collapsed": true
   },
   "outputs": [],
   "source": []
  },
  {
   "cell_type": "code",
   "execution_count": null,
   "metadata": {
    "collapsed": true
   },
   "outputs": [],
   "source": []
  }
 ],
 "metadata": {
  "kernelspec": {
   "display_name": "Python 3",
   "language": "python",
   "name": "python3"
  },
  "language_info": {
   "codemirror_mode": {
    "name": "ipython",
    "version": 3
   },
   "file_extension": ".py",
   "mimetype": "text/x-python",
   "name": "python",
   "nbconvert_exporter": "python",
   "pygments_lexer": "ipython3",
   "version": "3.6.1"
  }
 },
 "nbformat": 4,
 "nbformat_minor": 2
}
